{
 "cells": [
  {
   "cell_type": "code",
   "execution_count": 1,
   "metadata": {},
   "outputs": [],
   "source": [
    "# Libraries\n",
    "from huggingface_hub import HfApi, ModelCard\n",
    "from concurrent.futures import ThreadPoolExecutor, as_completed\n",
    "import logging\n",
    "import pandas as pd\n",
    "\n",
    "# Suppress the logging output for huggingface_hub\n",
    "logging.getLogger(\"huggingface_hub\").setLevel(logging.ERROR)"
   ]
  },
  {
   "cell_type": "code",
   "execution_count": 2,
   "metadata": {},
   "outputs": [],
   "source": [
    "api = HfApi()"
   ]
  },
  {
   "cell_type": "markdown",
   "metadata": {},
   "source": [
    "# Search for notebooks related to software engineering"
   ]
  },
  {
   "cell_type": "markdown",
   "metadata": {},
   "source": [
    "## Search by 'search' function\n",
    "### Software Engineering"
   ]
  },
  {
   "cell_type": "code",
   "execution_count": 3,
   "metadata": {},
   "outputs": [
    {
     "name": "stdout",
     "output_type": "stream",
     "text": [
      "Model name: justinlamlamlam/softwareengineering\n",
      "Downloads: 2\n",
      "Downloads all time: None\n",
      "Model tags: ['transformers', 'safetensors', 'bert', 'text-classification', 'arxiv:1910.09700', 'autotrain_compatible', 'endpoints_compatible', 'region:us'] \n",
      "\n",
      "Model name: burakkececi/bert-turkish-software-engineering\n",
      "Downloads: 0\n",
      "Downloads all time: None\n",
      "Model tags: ['transformers', 'safetensors', 'bert', 'fill-mask', 'tr', 'license:mit', 'autotrain_compatible', 'endpoints_compatible', 'region:us'] \n",
      "\n",
      "Model name: burakkececi/bert-software-engineering\n",
      "Downloads: 0\n",
      "Downloads all time: None\n",
      "Model tags: ['transformers', 'safetensors', 'bert', 'fill-mask', 'en', 'license:mit', 'autotrain_compatible', 'endpoints_compatible', 'region:us'] \n",
      "\n"
     ]
    }
   ],
   "source": [
    "# Search for models related to software engineering\n",
    "software_engineering_models = api.list_models(search=\"software engineering\",cardData=True, sort='downloads', direction=-1)\n",
    "\n",
    "# Example for analyzing model cards: https://github.com/Weixin-Liang/AI-model-card-analysis-HuggingFace/blob/main/api_example.ipynb\n",
    "\n",
    "for model in software_engineering_models:\n",
    "    model_info = api.model_info(model.id)\n",
    "    print(f\"Model name: {model_info.id}\")\n",
    "    print(f\"Downloads: {model_info.downloads}\")\n",
    "    print(f\"Downloads all time: {model_info.downloads_all_time}\")\n",
    "    print(f\"Model tags: {model_info.tags}\", \"\\n\")"
   ]
  },
  {
   "cell_type": "markdown",
   "metadata": {},
   "source": [
    "### Software Development"
   ]
  },
  {
   "cell_type": "code",
   "execution_count": 4,
   "metadata": {},
   "outputs": [
    {
     "name": "stdout",
     "output_type": "stream",
     "text": [
      "Model name: Jayian/software-development\n",
      "Downloads: 0\n",
      "Downloads all time: None\n",
      "Model tags: ['license:creativeml-openrail-m', 'region:us'] \n",
      "\n"
     ]
    }
   ],
   "source": [
    "software_development_models = api.list_models(search=\"software development\",cardData=True, sort='downloads', direction=-1)\n",
    "\n",
    "for model in software_development_models:\n",
    "    model_info = api.model_info(model.id)\n",
    "    print(f\"Model name: {model_info.id}\")\n",
    "    print(f\"Downloads: {model_info.downloads}\")\n",
    "    print(f\"Downloads all time: {model_info.downloads_all_time}\")\n",
    "    print(f\"Model tags: {model_info.tags}\",\"\\n\")"
   ]
  },
  {
   "cell_type": "markdown",
   "metadata": {},
   "source": [
    "## Search by tags\n",
    "### Software Engineering"
   ]
  },
  {
   "cell_type": "code",
   "execution_count": 5,
   "metadata": {},
   "outputs": [
    {
     "name": "stdout",
     "output_type": "stream",
     "text": [
      "Model name: taidng/wikiser-bert-base\n",
      "Downloads: 15\n",
      "Downloads all time: None\n",
      "Model tags: ['transformers', 'pytorch', 'safetensors', 'bert', 'token-classification', 'software engineering', 'ner', 'named-entity recognition', 'en', 'dataset:wikiser', 'arxiv:2308.10564', 'license:apache-2.0', 'autotrain_compatible', 'endpoints_compatible', 'region:us'] \n",
      "\n",
      "Model name: thearod5/nl-bert\n",
      "Downloads: 12\n",
      "Downloads all time: None\n",
      "Model tags: ['transformers', 'safetensors', 'bert', 'text-classification', 'software engineering', 'software traceability', 'arxiv:2207.01084', 'autotrain_compatible', 'endpoints_compatible', 'region:us'] \n",
      "\n",
      "Model name: taidng/wikiser-bert-large\n",
      "Downloads: 11\n",
      "Downloads all time: None\n",
      "Model tags: ['transformers', 'pytorch', 'safetensors', 'bert', 'token-classification', 'software engineering', 'ner', 'named-entity recognition', 'en', 'dataset:wikiser', 'arxiv:2308.10564', 'license:apache-2.0', 'autotrain_compatible', 'endpoints_compatible', 'region:us'] \n",
      "\n"
     ]
    }
   ],
   "source": [
    "software_engineering_models_tags = api.list_models(tags=[\"software engineering\"], cardData=True, sort='downloads', direction=-1)\n",
    "\n",
    "\n",
    "for model in software_engineering_models_tags:\n",
    "    model_info = api.model_info(model.id)\n",
    "    print(f\"Model name: {model_info.id}\")\n",
    "    print(f\"Downloads: {model_info.downloads}\")\n",
    "    print(f\"Downloads all time: {model_info.downloads_all_time}\")\n",
    "    print(f\"Model tags: {model_info.tags}\", \"\\n\")"
   ]
  },
  {
   "cell_type": "code",
   "execution_count": 6,
   "metadata": {},
   "outputs": [],
   "source": [
    "import pandas as pd\n",
    "import re\n",
    "\n",
    "df = pd.read_excel('./software_engineering_models.xlsx')\n",
    "\n",
    "def extract_links_or_names(text):\n",
    "    # Ensure the input is a string, otherwise return an empty string\n",
    "    if isinstance(text, str):\n",
    "        # Use regex to find full links starting with https://arxiv.org/abs/ or https://arxiv.org/pdf/\n",
    "        links_or_names = re.findall(r'(https://arxiv.org/(abs|pdf)/\\d+\\.\\d+(?:v\\d+)?)', text)\n",
    "        # Extract the full match from the tuple and return\n",
    "        return ' '.join([link[0] for link in links_or_names])\n",
    "    else:\n",
    "        return pd.NA\n",
    "\n",
    "\n",
    "# Apply the function to the 'paper_code' column\n",
    "df['paper_code_clean'] = df['paper_code'].apply(extract_links_or_names)\n",
    "\n",
    "df.to_excel('software_engineering_models_clean.xlsx', index=False)\n"
   ]
  }
 ],
 "metadata": {
  "kernelspec": {
   "display_name": "tesis",
   "language": "python",
   "name": "python3"
  },
  "language_info": {
   "codemirror_mode": {
    "name": "ipython",
    "version": 3
   },
   "file_extension": ".py",
   "mimetype": "text/x-python",
   "name": "python",
   "nbconvert_exporter": "python",
   "pygments_lexer": "ipython3",
   "version": "3.10.12"
  }
 },
 "nbformat": 4,
 "nbformat_minor": 2
}
