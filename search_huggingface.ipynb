{
 "cells": [
  {
   "cell_type": "code",
   "execution_count": 25,
   "metadata": {},
   "outputs": [],
   "source": [
    "# Libraries\n",
    "from huggingface_hub import HfApi, ModelCard\n",
    "from concurrent.futures import ThreadPoolExecutor, as_completed\n",
    "import logging\n",
    "import pandas as pd\n",
    "\n",
    "# Suppress the logging output for huggingface_hub\n",
    "logging.getLogger(\"huggingface_hub\").setLevel(logging.ERROR)"
   ]
  },
  {
   "cell_type": "code",
   "execution_count": 26,
   "metadata": {},
   "outputs": [],
   "source": [
    "\n",
    "\n",
    "api = HfApi()"
   ]
  },
  {
   "cell_type": "markdown",
   "metadata": {},
   "source": [
    "# Search for notebooks related to software engineering"
   ]
  },
  {
   "cell_type": "markdown",
   "metadata": {},
   "source": [
    "## Search by 'search' function\n",
    "### Software Engineering"
   ]
  },
  {
   "cell_type": "code",
   "execution_count": 27,
   "metadata": {},
   "outputs": [
    {
     "name": "stdout",
     "output_type": "stream",
     "text": [
      "Model name: justinlamlamlam/softwareengineering\n",
      "Downloads: 6\n",
      "Downloads all time: None\n",
      "Model tags: ['transformers', 'safetensors', 'bert', 'text-classification', 'arxiv:1910.09700', 'autotrain_compatible', 'endpoints_compatible', 'region:us'] \n",
      "\n",
      "Model name: burakkececi/bert-turkish-software-engineering\n",
      "Downloads: 4\n",
      "Downloads all time: None\n",
      "Model tags: ['transformers', 'safetensors', 'bert', 'fill-mask', 'tr', 'license:mit', 'autotrain_compatible', 'endpoints_compatible', 'region:us'] \n",
      "\n",
      "Model name: burakkececi/bert-software-engineering\n",
      "Downloads: 2\n",
      "Downloads all time: None\n",
      "Model tags: ['transformers', 'safetensors', 'bert', 'fill-mask', 'en', 'license:mit', 'autotrain_compatible', 'endpoints_compatible', 'region:us'] \n",
      "\n"
     ]
    }
   ],
   "source": [
    "# Search for models related to software engineering\n",
    "software_engineering_models = api.list_models(search=\"software engineering\",cardData=True, sort='downloads', direction=-1)\n",
    "\n",
    "# Example for analyzing model cards: https://github.com/Weixin-Liang/AI-model-card-analysis-HuggingFace/blob/main/api_example.ipynb\n",
    "\n",
    "for model in software_engineering_models:\n",
    "    model_info = api.model_info(model.id)\n",
    "    print(f\"Model name: {model_info.id}\")\n",
    "    print(f\"Downloads: {model_info.downloads}\")\n",
    "    print(f\"Downloads all time: {model_info.downloads_all_time}\")\n",
    "    print(f\"Model tags: {model_info.tags}\", \"\\n\")"
   ]
  },
  {
   "cell_type": "markdown",
   "metadata": {},
   "source": [
    "### Software Development"
   ]
  },
  {
   "cell_type": "code",
   "execution_count": 28,
   "metadata": {},
   "outputs": [
    {
     "name": "stdout",
     "output_type": "stream",
     "text": [
      "Model name: Jayian/software-development\n",
      "Downloads: 0\n",
      "Downloads all time: None\n",
      "Model tags: ['license:creativeml-openrail-m', 'region:us'] \n",
      "\n"
     ]
    }
   ],
   "source": [
    "software_development_models = api.list_models(search=\"software development\",cardData=True, sort='downloads', direction=-1)\n",
    "\n",
    "for model in software_development_models:\n",
    "    model_info = api.model_info(model.id)\n",
    "    print(f\"Model name: {model_info.id}\")\n",
    "    print(f\"Downloads: {model_info.downloads}\")\n",
    "    print(f\"Downloads all time: {model_info.downloads_all_time}\")\n",
    "    print(f\"Model tags: {model_info.tags}\",\"\\n\")"
   ]
  },
  {
   "cell_type": "markdown",
   "metadata": {},
   "source": [
    "## Search by tags\n",
    "### Software Engineering"
   ]
  },
  {
   "cell_type": "code",
   "execution_count": 29,
   "metadata": {},
   "outputs": [
    {
     "name": "stdout",
     "output_type": "stream",
     "text": [
      "Model name: taidng/wikiser-bert-large\n",
      "Downloads: 21\n",
      "Downloads all time: None\n",
      "Model tags: ['transformers', 'pytorch', 'safetensors', 'bert', 'token-classification', 'software engineering', 'ner', 'named-entity recognition', 'en', 'dataset:wikiser', 'arxiv:2308.10564', 'license:apache-2.0', 'autotrain_compatible', 'endpoints_compatible', 'region:us'] \n",
      "\n",
      "Model name: taidng/wikiser-bert-base\n",
      "Downloads: 7\n",
      "Downloads all time: None\n",
      "Model tags: ['transformers', 'pytorch', 'safetensors', 'bert', 'token-classification', 'software engineering', 'ner', 'named-entity recognition', 'en', 'dataset:wikiser', 'arxiv:2308.10564', 'license:apache-2.0', 'autotrain_compatible', 'endpoints_compatible', 'region:us'] \n",
      "\n",
      "Model name: thearod5/nl-bert\n",
      "Downloads: 4\n",
      "Downloads all time: None\n",
      "Model tags: ['transformers', 'safetensors', 'bert', 'text-classification', 'software engineering', 'software traceability', 'arxiv:2207.01084', 'autotrain_compatible', 'endpoints_compatible', 'region:us'] \n",
      "\n"
     ]
    }
   ],
   "source": [
    "software_engineering_models_tags = api.list_models(tags=[\"software engineering\"], cardData=True, sort='downloads', direction=-1)\n",
    "\n",
    "\n",
    "for model in software_engineering_models_tags:\n",
    "    model_info = api.model_info(model.id)\n",
    "    print(f\"Model name: {model_info.id}\")\n",
    "    print(f\"Downloads: {model_info.downloads}\")\n",
    "    print(f\"Downloads all time: {model_info.downloads_all_time}\")\n",
    "    print(f\"Model tags: {model_info.tags}\", \"\\n\")"
   ]
  },
  {
   "cell_type": "markdown",
   "metadata": {},
   "source": [
    "## Search by cards"
   ]
  },
  {
   "cell_type": "code",
   "execution_count": null,
   "metadata": {},
   "outputs": [],
   "source": [
    "# List models with card data sorted by downloads in descending order\n",
    "models = api.list_models(cardData=True, sort='downloads', direction=-1, limit=10000)\n",
    "\n",
    "# Define relevant words for filtering\n",
    "words = [\n",
    "    \"software engineering\", \"software development\", \"software\", \n",
    "    \"engineering\", \"development\", \"programming\",\n",
    "    \"developer\", \"software developer\", \"software engineer\", \n",
    "    \"web development\", \"web developer\", \"web\", \"web design\",\n",
    "    \"web designer\", \"code\", \"coding\", \"MLOps\", \"DevOps\"\n",
    "]\n",
    "\n",
    "# Prepare list to hold data for the dataframe\n",
    "data = []\n",
    "\n",
    "# Function to process each model\n",
    "def process_model(model):\n",
    "    try:\n",
    "        # Skip models with 0 downloads\n",
    "        if model.downloads == 0:\n",
    "            return None\n",
    "        \n",
    "        # Load the model card\n",
    "        model_card = ModelCard.load(model.id)\n",
    "        \n",
    "        # Check if any relevant word is in the model card content\n",
    "        for word in words:\n",
    "            if word in model_card.content:\n",
    "                return {\n",
    "                    \"Model Name\": model.id,\n",
    "                    \"Matching Word\": word,\n",
    "                    \"Downloads\": model.downloads\n",
    "                }\n",
    "    except Exception:\n",
    "        return None\n",
    "\n",
    "# Use ThreadPoolExecutor to process models concurrently\n",
    "with ThreadPoolExecutor(max_workers=12) as executor:\n",
    "    futures = [executor.submit(process_model, model) for model in models]\n",
    "    \n",
    "    # As completed threads return, collect the results\n",
    "    for future in as_completed(futures):\n",
    "        result = future.result()\n",
    "        if result:\n",
    "            data.append(result)\n",
    "\n",
    "# Create a pandas DataFrame from the extracted data\n",
    "df = pd.DataFrame(data, columns=[\"Model Name\", \"Matching Word\", \"Downloads\"])\n",
    "\n",
    "# Save DataFrame to Excel\n",
    "output_file = \"software_engineering_models.xlsx\"\n",
    "df.to_excel(output_file, index=False)\n",
    "\n",
    "print(f\"Data saved to {output_file}\")"
   ]
  }
 ],
 "metadata": {
  "kernelspec": {
   "display_name": "tesis",
   "language": "python",
   "name": "python3"
  },
  "language_info": {
   "codemirror_mode": {
    "name": "ipython",
    "version": 3
   },
   "file_extension": ".py",
   "mimetype": "text/x-python",
   "name": "python",
   "nbconvert_exporter": "python",
   "pygments_lexer": "ipython3",
   "version": "3.10.12"
  }
 },
 "nbformat": 4,
 "nbformat_minor": 2
}
